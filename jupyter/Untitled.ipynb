{
 "cells": [
  {
   "cell_type": "code",
   "execution_count": 3,
   "metadata": {},
   "outputs": [
    {
     "name": "stdout",
     "output_type": "stream",
     "text": [
      "8079ab70658afb575e845754a759a018\n"
     ]
    }
   ],
   "source": [
    "import hashlib\n",
    "m = hashlib.md5(b\"estacadenaesmuyprobableque no este en un diccionario porque es muy larga\")\n",
    "print(m.hexdigest())"
   ]
  },
  {
   "cell_type": "code",
   "execution_count": 5,
   "metadata": {},
   "outputs": [
    {
     "name": "stdout",
     "output_type": "stream",
     "text": [
      "e9f831c46345e29b57457409f66620050814869e6f54ef116667a3d4f67d20cd\n"
     ]
    }
   ],
   "source": [
    "m2 = hashlib.sha256(b\"b221d9dbb083a7f33428d7c2a3c3198ae925614d70210e28716ccaa7cd4ddb79hola\")\n",
    "print(m2.hexdigest())"
   ]
  },
  {
   "cell_type": "code",
   "execution_count": 7,
   "metadata": {},
   "outputs": [
    {
     "ename": "SyntaxError",
     "evalue": "invalid syntax (<ipython-input-7-681582dd43de>, line 1)",
     "output_type": "error",
     "traceback": [
      "\u001b[0;36m  File \u001b[0;32m\"<ipython-input-7-681582dd43de>\"\u001b[0;36m, line \u001b[0;32m1\u001b[0m\n\u001b[0;31m    PBKDF2 -> Default Django\u001b[0m\n\u001b[0m            ^\u001b[0m\n\u001b[0;31mSyntaxError\u001b[0m\u001b[0;31m:\u001b[0m invalid syntax\n"
     ]
    }
   ],
   "source": [
    "PBKDF2 -> Default Django\n",
    "BCRYPT -> Default phoenix\n",
    "============= Vulnerables a ataques con hardware\n",
    "\n",
    "SCRYPT ->\n",
    "ARGON2 -> ARGON2i y Argon2d o ARGON2id\n"
   ]
  },
  {
   "cell_type": "code",
   "execution_count": null,
   "metadata": {},
   "outputs": [],
   "source": []
  }
 ],
 "metadata": {
  "kernelspec": {
   "display_name": "Python 3",
   "language": "python",
   "name": "python3"
  },
  "language_info": {
   "codemirror_mode": {
    "name": "ipython",
    "version": 3
   },
   "file_extension": ".py",
   "mimetype": "text/x-python",
   "name": "python",
   "nbconvert_exporter": "python",
   "pygments_lexer": "ipython3",
   "version": "3.6.8"
  }
 },
 "nbformat": 4,
 "nbformat_minor": 2
}
